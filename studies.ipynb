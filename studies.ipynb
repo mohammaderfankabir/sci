{
 "cells": [
  {
   "cell_type": "markdown",
   "metadata": {},
   "source": [
    "The Apothecary Diaries"
   ]
  },
  {
   "cell_type": "markdown",
   "metadata": {},
   "source": [
    "saturday -\n",
    "monday -\n",
    "wendesday -\n",
    "friday -\n",
    "\n",
    "Kaggle, LeetCode, Github, GeoGebra (https://www.geogebra.org/)\n",
    "\n",
    "Kaggle --> https://www.kaggle.com/learn/intermediate-machine-learning\n",
    "Arc-Prize --> https://arcprize.org/guide\n",
    "\n",
    "Project: Figam Plugn: (thread) text-threading , auto hyphenation ..\n",
    "\n",
    "\n",
    "subscene is a tresure for smooth translation.\n",
    "\n",
    "if penguins are safe from cold, how we can make a cloth for me to save me too. (beside they are walking in group to create heat zone)\n",
    "\n",
    "twins: 1. first book is to build a computer similar to nand to tetris, 2. build a quantuom computer (my two books)"
   ]
  },
  {
   "cell_type": "markdown",
   "metadata": {},
   "source": [
    "WEBSITE: Developing contents, Sketchin out some ideas, creating components and prototyp in figma (that's all for now)"
   ]
  },
  {
   "cell_type": "markdown",
   "metadata": {},
   "source": [
    "speciements\n",
    "includes (their finate state machine in time intervals, and life span, from born to die)\n",
    "\n",
    "C. Elegans\n",
    "Tardigrades\n",
    "Turritopsis dohrnii\n",
    "\n",
    "?sleepwalking\n",
    "?asylum"
   ]
  },
  {
   "cell_type": "markdown",
   "metadata": {},
   "source": [
    "\"https://learning.quantum.ibm.com/\": \"\",\n",
    "\"https://quantumai.google/\": \"\",\n",
    "\"https://www.youtube.com/qiskit\": \"\",\n",
    "\n",
    "        \"Nand to tetris\": {\n",
    "            \"Building a Modern Computer from First Principles (Noam Nisan et al.)\": {\n",
    "                \"Video lectures\": {\n",
    "                    \"https://www.coursera.org/learn/build-a-computer\": \"\",\n",
    "                    \"https://www.coursera.org/learn/nand2tetris2\": \"\",\n",
    "                    \"https://www.nand2tetris.org/\": \"\",\n",
    "                    \"https://github.com/nand2tetris\": \"\",\n",
    "                },\n",
    "            },\n",
    "        },"
   ]
  },
  {
   "cell_type": "code",
   "execution_count": null,
   "metadata": {},
   "outputs": [],
   "source": [
    "tree = {\n",
    "    \"current\": {   \n",
    "        \"Introduction to Linear Algebra, 6th edition (Gilbert Strang)\": \"6\",  # https://ocw.mit.edu/courses/18-06sc-linear-algebra-fall-2011/ \n",
    "        \"Discrete Mathematics and Its Applications, 8th edition (Kenneth H. Rosen)\": \"13\",  # \"https://highered.mheducation.com/sites/125967651x/student_view0/index.html\"\n",
    "        \"C Programming Language, 2nd edition (K & R)\": \"ch1\",\n",
    "    },\n",
    "\n",
    "    \"next\": {\n",
    "        \"Introduction to Probability, Second Edition (Joseph K. Blitzstein et al.)\": \"1\",  # https://projects.iq.harvard.edu/stat110/\n",
    "        \"Visual Complex Analysis (Tristan Needham)\": \"1\",\n",
    "        \"Programming: Principles and Practice Using C++ (Bjarne Stroustrup)\": \"\",  # https://www.stroustrup.com/\n",
    "    },\n",
    "\n",
    "    \"stockpile\": {\n",
    "        \n",
    "        \"computer sci\": {   \n",
    "            \"The C++ Programming Language, 4th edition (Bjarne Stroustrup)\": \"52\",  # https://www.stroustrup.com/\n",
    "            \"Fluent Python, 2nd edition (Luciano Ramalho)\": \"\",\n",
    "            \"JavaScript The Definitive Guide, 7th edition\": \"\",\n",
    "            \"Introduction to Algorithms, fourth edition (Thomas H. Cormen et al.)\": \"\",  # https://ocw.mit.edu/courses/6-046j-introduction-to-algorithms-sma-5503-fall-2005/\n",
    "            \"The Cinderella Book, 3rd edition (John Hopcroft et al.)\": \"\",\n",
    "            \"Database System Concepts, 7th edition (Abraham Silberschatz et al.)\": \"65 left: ch1 ex, ch2 ex,\",  # https://db-book.com/\n",
    "        },\n",
    "\n",
    "        \"quantum mech\": {\n",
    "            \"Thomas' Calculus, 15th edition (George B. Thomas et al.)\": \"\",\n",
    "            \"Visual Differential Geometry and Forms\": \"\",\n",
    "            \"University Physics with Modern Physics, 15th edition (Hugh D. Young et al.)\": \"\",\n",
    "            \"The Feynman Lectures on Physics (Richard P. Feynman)\": \"\",  # https://www.feynmanlectures.caltech.edu/\n",
    "            \"Introduction to Quantum Mechanics, Third edition (David J. Griffiths)\": \"\",\n",
    "            \"Quantum Computation and Quantum Information, 10th Anniversary Edition (Mike & Ike)\": \"\",  # \"https://ocw.mit.edu/courses/8-370x-quantum-information-science-i-spring-2018/\": \"\",\n",
    "        },\n",
    "\n",
    "        \"language\": {\n",
    "            \"Wheelock's Latin, 7th Edition\": \"\",\n",
    "            \"The Cambridge Grammar of the English Language\": \"\",\n",
    "            \"The Chicago Manual of Style 17th Edition\": \"\",\n",
    "        },\n",
    "    },\n",
    "\n",
    "    \"Deep Learning Book (Ian Goodfellow et al.)\": \"\",  # https://www.youtube.com/@AlenaKruchkova , https://www.deeplearningbook.org/\n",
    "    \"Reinforcement Learning An introduction (Richard S. Sutton et al.)\": \"\",  # http://incompleteideas.net/book/the-book-2nd.html\n",
    "},"
   ]
  },
  {
   "cell_type": "code",
   "execution_count": null,
   "metadata": {},
   "outputs": [
    {
     "ename": "",
     "evalue": "",
     "output_type": "error",
     "traceback": [
      "\u001b[1;31mRunning cells with 'Python 3.13.2' requires the ipykernel package.\n",
      "\u001b[1;31mRun the following command to install 'ipykernel' into the Python environment. \n",
      "\u001b[1;31mCommand: 'c:/Users/mohammaderfan/AppData/Local/Programs/Python/Python313/python.exe -m pip install ipykernel -U --user --force-reinstall'"
     ]
    }
   ],
   "source": [
    "def print_tree_structure(structure, prefix=''):\n",
    "    for i, (name, content) in enumerate(structure.items()):\n",
    "        is_last = i == len(structure) - 1\n",
    "        # Print the name with the appropriate prefix\n",
    "        print(f\"{prefix}{'└── ' if is_last else '├── '}{name}\")\n",
    "        \n",
    "        # If the content is a dictionary, recurse\n",
    "        if isinstance(content, dict):\n",
    "            new_prefix = prefix + ('    ' if is_last else '│   ')\n",
    "            print_tree_structure(content, new_prefix)           \n",
    "\n",
    "\n",
    "print_tree_structure(tree)\n"
   ]
  },
  {
   "cell_type": "code",
   "execution_count": 6,
   "metadata": {},
   "outputs": [
    {
     "name": "stdout",
     "output_type": "stream",
     "text": [
      "✔\n"
     ]
    }
   ],
   "source": [
    "print('✔')"
   ]
  }
 ],
 "metadata": {
  "kernelspec": {
   "display_name": "Python 3",
   "language": "python",
   "name": "python3"
  },
  "language_info": {
   "codemirror_mode": {
    "name": "ipython",
    "version": 3
   },
   "file_extension": ".py",
   "mimetype": "text/x-python",
   "name": "python",
   "nbconvert_exporter": "python",
   "pygments_lexer": "ipython3",
   "version": "3.13.2"
  }
 },
 "nbformat": 4,
 "nbformat_minor": 2
}
